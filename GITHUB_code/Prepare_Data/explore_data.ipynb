{
 "cells": [
  {
   "cell_type": "code",
   "execution_count": 1,
   "metadata": {},
   "outputs": [],
   "source": [
    "import os"
   ]
  },
  {
   "cell_type": "code",
   "execution_count": 3,
   "metadata": {
    "scrolled": false
   },
   "outputs": [
    {
     "name": "stdout",
     "output_type": "stream",
     "text": [
      "1300 !\n",
      "14294 (\n",
      "14355 )\n",
      "25112 +\n",
      "1906 ,\n",
      "33997 -\n",
      "6914 0\n",
      "26520 1\n",
      "26141 2\n",
      "10909 3\n",
      "7396 4\n",
      "3545 5\n",
      "3118 6\n",
      "2909 7\n",
      "3068 8\n",
      "3737 9\n",
      "13104 =\n",
      "12367 A\n",
      "2546 alpha\n",
      "1339 ascii_124\n",
      "8651 b\n",
      "2025 beta\n",
      "5802 C\n",
      "2986 cos\n",
      "4852 d\n",
      "137 Delta\n",
      "868 div\n",
      "3003 e\n",
      "21 exists\n",
      "3712 f\n",
      "45 forall\n",
      "199 forward_slash\n",
      "1692 G\n",
      "409 gamma\n",
      "693 geq\n",
      "258 gt\n",
      "1464 H\n",
      "5140 i\n",
      "47 in\n",
      "1783 infty\n",
      "2742 int\n",
      "1536 j\n",
      "3074 k\n",
      "1017 l\n",
      "109 lambda\n",
      "609 ldots\n",
      "973 leq\n",
      "1675 lim\n",
      "2001 log\n",
      "477 lt\n",
      "2476 M\n",
      "177 mu\n",
      "10862 N\n",
      "558 neq\n",
      "449 o\n",
      "2680 p\n",
      "355 phi\n",
      "2332 pi\n",
      "802 pm\n",
      "329 prime\n",
      "1230 q\n",
      "2671 R\n",
      "1703 rightarrow\n",
      "1413 S\n",
      "201 sigma\n",
      "4293 sin\n",
      "8908 sqrt\n",
      "2689 sum\n",
      "3274 T\n",
      "2450 tan\n",
      "2796 theta\n",
      "3251 times\n",
      "1269 u\n",
      "1558 v\n",
      "556 w\n",
      "26594 X\n",
      "9340 y\n",
      "5870 z\n",
      "778 [\n",
      "780 ]\n",
      "376 {\n",
      "377 }\n"
     ]
    }
   ],
   "source": [
    "#show how many images of every category\n",
    "list=os.listdir(r'C:\\Users\\89228\\Desktop\\Data Science\\extracted_images')\n",
    "numbers=[]\n",
    "for item in list:\n",
    "    numbers+=[]\n",
    "    print(len(os.listdir(r'C:\\Users\\89228\\Desktop\\Data Science\\extracted_images'+'\\\\'+item)),item)"
   ]
  }
 ],
 "metadata": {
  "kernelspec": {
   "display_name": "Python 3",
   "language": "python",
   "name": "python3"
  },
  "language_info": {
   "codemirror_mode": {
    "name": "ipython",
    "version": 3
   },
   "file_extension": ".py",
   "mimetype": "text/x-python",
   "name": "python",
   "nbconvert_exporter": "python",
   "pygments_lexer": "ipython3",
   "version": "3.6.6"
  }
 },
 "nbformat": 4,
 "nbformat_minor": 2
}
