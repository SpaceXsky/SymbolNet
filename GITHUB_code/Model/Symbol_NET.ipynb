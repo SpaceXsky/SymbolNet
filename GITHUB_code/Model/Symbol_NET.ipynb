{
 "cells": [
  {
   "cell_type": "code",
   "execution_count": 1,
   "metadata": {},
   "outputs": [
    {
     "name": "stderr",
     "output_type": "stream",
     "text": [
      "Using TensorFlow backend.\n"
     ]
    }
   ],
   "source": [
    "#enviroonment\n",
    "from __future__ import print_function\n",
    "import keras\n",
    "from keras.datasets import mnist\n",
    "from keras.models import Sequential\n",
    "from keras.layers import Dense, Dropout, Flatten\n",
    "from keras.layers import Conv2D, MaxPooling2D\n",
    "from keras import backend as K\n",
    "import os\n",
    "import tensorflow as tf\n",
    "import keras.backend.tensorflow_backend as KTF\n",
    "\n",
    "#important\n",
    "# GPU use\n",
    "os.environ[\"CUDA_VISIBLE_DEVICES\"] = \"1\"\n",
    "config = tf.ConfigProto()\n",
    "config.gpu_options.allow_growth=True\n",
    "sess = tf.Session(config=config)\n",
    "#keras dynamic growth\n",
    "KTF.set_session(sess)"
   ]
  },
  {
   "cell_type": "code",
   "execution_count": 2,
   "metadata": {},
   "outputs": [],
   "source": [
    "#parameters\n",
    "batch_size = 128\n",
    "num_classes = 82\n",
    "epochs = 12\n",
    "# input image dimensions\n",
    "img_rows, img_cols = 45,45"
   ]
  },
  {
   "cell_type": "code",
   "execution_count": 3,
   "metadata": {},
   "outputs": [],
   "source": [
    "import utils\n",
    "x_train, y_train, x_test, y_test = utils.load_dataset()"
   ]
  },
  {
   "cell_type": "code",
   "execution_count": 4,
   "metadata": {
    "collapsed": true
   },
   "outputs": [
    {
     "name": "stdout",
     "output_type": "stream",
     "text": [
      "x_train shape: (54078, 45, 45, 1)\n",
      "54078 train samples\n",
      "13505 test samples\n"
     ]
    }
   ],
   "source": [
    "#prepare data\n",
    "if K.image_data_format() == 'channels_first':\n",
    "    x_train = x_train.reshape(x_train.shape[0], 1, img_rows, img_cols)\n",
    "    x_test = x_test.reshape(x_test.shape[0], 1, img_rows, img_cols)\n",
    "    input_shape = (1, img_rows, img_cols)\n",
    "else:\n",
    "    x_train = x_train.reshape(x_train.shape[0], img_rows, img_cols, 1)\n",
    "    x_test = x_test.reshape(x_test.shape[0], img_rows, img_cols, 1)\n",
    "    input_shape = (img_rows, img_cols, 1)\n",
    "\n",
    "# x_train = x_train.astype('float32')\n",
    "# x_test = x_test.astype('float32')\n",
    "# x_train /= 255\n",
    "# x_test /= 255\n",
    "print('x_train shape:', x_train.shape)\n",
    "print(x_train.shape[0], 'train samples')\n",
    "print(x_test.shape[0], 'test samples')"
   ]
  },
  {
   "cell_type": "code",
   "execution_count": 5,
   "metadata": {},
   "outputs": [],
   "source": [
    "# convert class vectors to binary class matrices\n",
    "y_train = keras.utils.to_categorical(y_train, num_classes)\n",
    "y_test = keras.utils.to_categorical(y_test, num_classes)"
   ]
  },
  {
   "cell_type": "code",
   "execution_count": 6,
   "metadata": {},
   "outputs": [],
   "source": [
    "model = Sequential()\n",
    "model.add(Conv2D(32, kernel_size=(3, 3),\n",
    "                 activation='relu',\n",
    "                 input_shape=input_shape))\n",
    "model.add(Conv2D(64, (3, 3), activation='relu'))\n",
    "model.add(MaxPooling2D(pool_size=(2, 2)))\n",
    "model.add(Dropout(0.25))\n",
    "model.add(Flatten())\n",
    "model.add(Dense(128, activation='relu'))\n",
    "model.add(Dropout(0.5))\n",
    "model.add(Dense(num_classes, activation='softmax'))"
   ]
  },
  {
   "cell_type": "code",
   "execution_count": 7,
   "metadata": {},
   "outputs": [],
   "source": [
    "model.compile(loss=keras.losses.categorical_crossentropy,\n",
    "              optimizer=keras.optimizers.Adadelta(),\n",
    "              metrics=['accuracy'])"
   ]
  },
  {
   "cell_type": "code",
   "execution_count": 8,
   "metadata": {},
   "outputs": [
    {
     "name": "stdout",
     "output_type": "stream",
     "text": [
      "Train on 54078 samples, validate on 13505 samples\n",
      "Epoch 1/12\n",
      "54078/54078 [==============================] - 30s 562us/step - loss: 1.9349 - acc: 0.5138 - val_loss: 0.8866 - val_acc: 0.7622\n",
      "Epoch 2/12\n",
      "54078/54078 [==============================] - 28s 526us/step - loss: 0.9660 - acc: 0.7306 - val_loss: 0.6699 - val_acc: 0.8192\n",
      "Epoch 3/12\n",
      "54078/54078 [==============================] - 28s 523us/step - loss: 0.7142 - acc: 0.7939 - val_loss: 0.5758 - val_acc: 0.8458\n",
      "Epoch 4/12\n",
      "54078/54078 [==============================] - 28s 521us/step - loss: 0.5685 - acc: 0.8337 - val_loss: 0.4967 - val_acc: 0.8626\n",
      "Epoch 5/12\n",
      "54078/54078 [==============================] - 28s 521us/step - loss: 0.4912 - acc: 0.8532 - val_loss: 0.4815 - val_acc: 0.8756\n",
      "Epoch 6/12\n",
      "54078/54078 [==============================] - 28s 521us/step - loss: 0.4254 - acc: 0.8720 - val_loss: 0.4536 - val_acc: 0.8788\n",
      "Epoch 7/12\n",
      "54078/54078 [==============================] - 28s 521us/step - loss: 0.3715 - acc: 0.8850 - val_loss: 0.4621 - val_acc: 0.8796\n",
      "Epoch 8/12\n",
      "54078/54078 [==============================] - 28s 510us/step - loss: 0.3361 - acc: 0.8968 - val_loss: 0.4342 - val_acc: 0.8924\n",
      "Epoch 9/12\n",
      "54078/54078 [==============================] - 27s 503us/step - loss: 0.3110 - acc: 0.9055 - val_loss: 0.4102 - val_acc: 0.9007\n",
      "Epoch 10/12\n",
      "54078/54078 [==============================] - 27s 501us/step - loss: 0.2902 - acc: 0.9093 - val_loss: 0.4074 - val_acc: 0.8993\n",
      "Epoch 11/12\n",
      "54078/54078 [==============================] - 27s 504us/step - loss: 0.2734 - acc: 0.9150 - val_loss: 0.4327 - val_acc: 0.8979\n",
      "Epoch 12/12\n",
      "54078/54078 [==============================] - 28s 517us/step - loss: 0.2527 - acc: 0.9205 - val_loss: 0.4160 - val_acc: 0.9027\n"
     ]
    },
    {
     "data": {
      "text/plain": [
       "<keras.callbacks.History at 0x7f99ace10710>"
      ]
     },
     "execution_count": 8,
     "metadata": {},
     "output_type": "execute_result"
    }
   ],
   "source": [
    "model.fit(x_train, y_train,\n",
    "          batch_size=batch_size,\n",
    "          epochs=epochs,\n",
    "          verbose=1,\n",
    "          validation_data=(x_test, y_test))"
   ]
  },
  {
   "cell_type": "code",
   "execution_count": 11,
   "metadata": {},
   "outputs": [
    {
     "name": "stdout",
     "output_type": "stream",
     "text": [
      "_________________________________________________________________\n",
      "Layer (type)                 Output Shape              Param #   \n",
      "=================================================================\n",
      "conv2d_1 (Conv2D)            (None, 43, 43, 32)        320       \n",
      "_________________________________________________________________\n",
      "conv2d_2 (Conv2D)            (None, 41, 41, 64)        18496     \n",
      "_________________________________________________________________\n",
      "max_pooling2d_1 (MaxPooling2 (None, 20, 20, 64)        0         \n",
      "_________________________________________________________________\n",
      "dropout_1 (Dropout)          (None, 20, 20, 64)        0         \n",
      "_________________________________________________________________\n",
      "flatten_1 (Flatten)          (None, 25600)             0         \n",
      "_________________________________________________________________\n",
      "dense_1 (Dense)              (None, 128)               3276928   \n",
      "_________________________________________________________________\n",
      "dropout_2 (Dropout)          (None, 128)               0         \n",
      "_________________________________________________________________\n",
      "dense_2 (Dense)              (None, 82)                10578     \n",
      "=================================================================\n",
      "Total params: 3,306,322\n",
      "Trainable params: 3,306,322\n",
      "Non-trainable params: 0\n",
      "_________________________________________________________________\n",
      "None\n"
     ]
    }
   ],
   "source": [
    "print(model.summary())"
   ]
  },
  {
   "cell_type": "code",
   "execution_count": 16,
   "metadata": {},
   "outputs": [],
   "source": [
    "model.save('Symbol_Net_model_epoch_12_.h5')  "
   ]
  },
  {
   "cell_type": "code",
   "execution_count": null,
   "metadata": {},
   "outputs": [],
   "source": []
  }
 ],
 "metadata": {
  "kernelspec": {
   "display_name": "Python 3",
   "language": "python",
   "name": "python3"
  },
  "language_info": {
   "codemirror_mode": {
    "name": "ipython",
    "version": 3
   },
   "file_extension": ".py",
   "mimetype": "text/x-python",
   "name": "python",
   "nbconvert_exporter": "python",
   "pygments_lexer": "ipython3",
   "version": "3.6.6"
  }
 },
 "nbformat": 4,
 "nbformat_minor": 2
}
