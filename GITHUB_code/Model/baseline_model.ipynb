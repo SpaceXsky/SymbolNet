{
 "cells": [
  {
   "cell_type": "code",
   "execution_count": 1,
   "metadata": {},
   "outputs": [],
   "source": [
    "import tensorflow as tf\n",
    "from tensorflow import keras"
   ]
  },
  {
   "cell_type": "code",
   "execution_count": 2,
   "metadata": {},
   "outputs": [],
   "source": [
    "# Helper libraries\n",
    "import utils\n",
    "\n",
    "train_images, train_labels, test_images, test_labels = utils.load_dataset()\n",
    "# convert class vectors to binary class matrices\n",
    "train_labels = keras.utils.to_categorical(train_labels, 82)\n",
    "test_labels = keras.utils.to_categorical(test_labels, 82)"
   ]
  },
  {
   "cell_type": "code",
   "execution_count": 3,
   "metadata": {},
   "outputs": [],
   "source": [
    "model = keras.Sequential([\n",
    "    keras.layers.Flatten(input_shape=(45, 45)),\n",
    "    keras.layers.Dense(128, activation=tf.nn.relu),\n",
    "    keras.layers.Dropout(0.35),\n",
    "    keras.layers.Dense(82, activation=tf.nn.softmax)\n",
    "])"
   ]
  },
  {
   "cell_type": "code",
   "execution_count": 4,
   "metadata": {},
   "outputs": [],
   "source": [
    "model.compile(optimizer=keras.optimizers.Adadelta(),\n",
    "              loss='categorical_crossentropy',\n",
    "              metrics=['accuracy'],\n",
    "              )\n"
   ]
  },
  {
   "cell_type": "code",
   "execution_count": 5,
   "metadata": {},
   "outputs": [
    {
     "name": "stdout",
     "output_type": "stream",
     "text": [
      "Train on 54078 samples, validate on 13505 samples\n",
      "Epoch 1/5\n",
      "54078/54078 [==============================] - 16s 298us/step - loss: 1.8208 - acc: 0.5463 - val_loss: 1.2479 - val_acc: 0.6837\n",
      "Epoch 2/5\n",
      "54078/54078 [==============================] - 19s 353us/step - loss: 1.1350 - acc: 0.7019 - val_loss: 1.0210 - val_acc: 0.7397\n",
      "Epoch 3/5\n",
      "54078/54078 [==============================] - 16s 297us/step - loss: 0.9333 - acc: 0.7495 - val_loss: 0.9258 - val_acc: 0.7710\n",
      "Epoch 4/5\n",
      "54078/54078 [==============================] - 16s 298us/step - loss: 0.8146 - acc: 0.7789 - val_loss: 0.8559 - val_acc: 0.7879\n",
      "Epoch 5/5\n",
      "54078/54078 [==============================] - 17s 310us/step - loss: 0.7292 - acc: 0.8002 - val_loss: 0.8062 - val_acc: 0.8015\n"
     ]
    }
   ],
   "source": [
    "History=model.fit(train_images, train_labels, validation_data=(test_images,test_labels)\n",
    "                  ,epochs=5,verbose=1)"
   ]
  },
  {
   "cell_type": "code",
   "execution_count": 7,
   "metadata": {},
   "outputs": [],
   "source": [
    "#save model\n",
    "model.save('baseline_model.h5')"
   ]
  },
  {
   "cell_type": "code",
   "execution_count": 14,
   "metadata": {},
   "outputs": [
    {
     "name": "stdout",
     "output_type": "stream",
     "text": [
      "_________________________________________________________________\n",
      "Layer (type)                 Output Shape              Param #   \n",
      "=================================================================\n",
      "flatten (Flatten)            (None, 2025)              0         \n",
      "_________________________________________________________________\n",
      "dense (Dense)                (None, 128)               259328    \n",
      "_________________________________________________________________\n",
      "dropout (Dropout)            (None, 128)               0         \n",
      "_________________________________________________________________\n",
      "dense_1 (Dense)              (None, 82)                10578     \n",
      "=================================================================\n",
      "Total params: 269,906\n",
      "Trainable params: 269,906\n",
      "Non-trainable params: 0\n",
      "_________________________________________________________________\n"
     ]
    }
   ],
   "source": [
    "#model summary\n",
    "model.summary()"
   ]
  }
 ],
 "metadata": {
  "kernelspec": {
   "display_name": "Python 3",
   "language": "python",
   "name": "python3"
  },
  "language_info": {
   "codemirror_mode": {
    "name": "ipython",
    "version": 3
   },
   "file_extension": ".py",
   "mimetype": "text/x-python",
   "name": "python",
   "nbconvert_exporter": "python",
   "pygments_lexer": "ipython3",
   "version": "3.6.6"
  }
 },
 "nbformat": 4,
 "nbformat_minor": 1
}
